{
 "cells": [
  {
   "cell_type": "markdown",
   "id": "aca3d43f-6e2f-40ce-953b-16344effea0e",
   "metadata": {},
   "source": [
    "# Data Science Tools and Ecosystem"
   ]
  },
  {
   "cell_type": "markdown",
   "id": "a5055263-0f13-47c9-a6ac-681684cc9a7c",
   "metadata": {},
   "source": [
    "In this notebook, Data Science Tools and Ecosystems are summarized. "
   ]
  },
  {
   "cell_type": "markdown",
   "id": "8e2974c6-93e0-4282-8b82-6ec064ed240e",
   "metadata": {},
   "source": [
    "Some of the popular languages that Data Scientists use are: \n",
    "1. R\n",
    "2. Python\n",
    "3. SQL"
   ]
  },
  {
   "cell_type": "markdown",
   "id": "673605a6-7311-4ec9-90cd-fff59acc078c",
   "metadata": {},
   "source": [
    "Some of the commonly used libraries used by Data Scientists include: \n",
    "1. NumPy\n",
    "2. Pandas\n",
    "3. Matplotlib"
   ]
  },
  {
   "cell_type": "markdown",
   "id": "98f571b2-5613-41cf-871f-cdb79480a64e",
   "metadata": {},
   "source": [
    "| Data Science Tools |\n",
    "| -----------|\n",
    "| Apache Spark | \n",
    "| TensorFlow |\n",
    "| Jupyter Notebook|\n"
   ]
  },
  {
   "cell_type": "markdown",
   "id": "17db9944-026e-42c0-a921-f196bd1de6a1",
   "metadata": {},
   "source": [
    "### Below are a few examples of evaluating arithmetic expressions in Python"
   ]
  },
  {
   "cell_type": "code",
   "execution_count": 2,
   "id": "6e70196a-d1ee-4aa8-b021-62f561a76d4f",
   "metadata": {},
   "outputs": [
    {
     "data": {
      "text/plain": [
       "17"
      ]
     },
     "execution_count": 2,
     "metadata": {},
     "output_type": "execute_result"
    }
   ],
   "source": [
    "#This is a simple arithmetic expression to multiply then add integers \n",
    "(3*4)+5"
   ]
  },
  {
   "cell_type": "code",
   "execution_count": 5,
   "id": "106f20a8-27b5-4729-b03d-26d730c999bc",
   "metadata": {},
   "outputs": [
    {
     "data": {
      "text/plain": [
       "3.3333333333333335"
      ]
     },
     "execution_count": 5,
     "metadata": {},
     "output_type": "execute_result"
    }
   ],
   "source": [
    "#This will convert 200 minutes to hours by dividing by 60 \n",
    "200 / 60"
   ]
  },
  {
   "cell_type": "markdown",
   "id": "37a30bc0-744f-41fc-ac0c-50440e356d5d",
   "metadata": {},
   "source": [
    "**Objectives:**\n",
    "- List popular languages for data science \n",
    "- List commonly used libraries for data science\n",
    "- List data science tools "
   ]
  },
  {
   "cell_type": "markdown",
   "id": "b5ac2cdb-3c2a-4a3d-b2ae-c354714a6e4a",
   "metadata": {},
   "source": [
    "## Author \n",
    "Amber \n"
   ]
  },
  {
   "cell_type": "code",
   "execution_count": null,
   "id": "c43e3249-0aed-4c2b-b70e-2f69f0397e6a",
   "metadata": {},
   "outputs": [],
   "source": []
  }
 ],
 "metadata": {
  "kernelspec": {
   "display_name": "Python 3 (ipykernel)",
   "language": "python",
   "name": "python3"
  },
  "language_info": {
   "codemirror_mode": {
    "name": "ipython",
    "version": 3
   },
   "file_extension": ".py",
   "mimetype": "text/x-python",
   "name": "python",
   "nbconvert_exporter": "python",
   "pygments_lexer": "ipython3",
   "version": "3.12.9"
  }
 },
 "nbformat": 4,
 "nbformat_minor": 5
}
